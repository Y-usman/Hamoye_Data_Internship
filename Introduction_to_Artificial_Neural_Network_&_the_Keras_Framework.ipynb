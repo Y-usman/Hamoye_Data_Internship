{
  "nbformat": 4,
  "nbformat_minor": 0,
  "metadata": {
    "colab": {
      "name": "Introduction to Artificial Neural Network & the Keras Framework.ipynb",
      "provenance": [],
      "collapsed_sections": []
    },
    "kernelspec": {
      "name": "python3",
      "display_name": "Python 3"
    },
    "language_info": {
      "name": "python"
    }
  },
  "cells": [
    {
      "cell_type": "code",
      "source": [
        "!pip install tensorflow==1.15\n",
        "!pip install tensorflow-estimator==1.15.1"
      ],
      "metadata": {
        "colab": {
          "base_uri": "https://localhost:8080/"
        },
        "id": "SDYBEEq4ByG1",
        "outputId": "43963996-4d6d-4ce3-bd8f-451fbc64988f"
      },
      "execution_count": 48,
      "outputs": [
        {
          "output_type": "stream",
          "name": "stdout",
          "text": [
            "Requirement already satisfied: tensorflow==1.15 in /usr/local/lib/python3.7/dist-packages (1.15.0)\n",
            "Requirement already satisfied: tensorflow-estimator==1.15.1 in /usr/local/lib/python3.7/dist-packages (from tensorflow==1.15) (1.15.1)\n",
            "Requirement already satisfied: absl-py>=0.7.0 in /usr/local/lib/python3.7/dist-packages (from tensorflow==1.15) (1.0.0)\n",
            "Requirement already satisfied: opt-einsum>=2.3.2 in /usr/local/lib/python3.7/dist-packages (from tensorflow==1.15) (3.3.0)\n",
            "Requirement already satisfied: wheel>=0.26 in /usr/local/lib/python3.7/dist-packages (from tensorflow==1.15) (0.37.1)\n",
            "Requirement already satisfied: grpcio>=1.8.6 in /usr/local/lib/python3.7/dist-packages (from tensorflow==1.15) (1.44.0)\n",
            "Requirement already satisfied: keras-preprocessing>=1.0.5 in /usr/local/lib/python3.7/dist-packages (from tensorflow==1.15) (1.1.2)\n",
            "Requirement already satisfied: tensorboard<1.16.0,>=1.15.0 in /usr/local/lib/python3.7/dist-packages (from tensorflow==1.15) (1.15.0)\n",
            "Requirement already satisfied: termcolor>=1.1.0 in /usr/local/lib/python3.7/dist-packages (from tensorflow==1.15) (1.1.0)\n",
            "Requirement already satisfied: keras-applications>=1.0.8 in /usr/local/lib/python3.7/dist-packages (from tensorflow==1.15) (1.0.8)\n",
            "Requirement already satisfied: wrapt>=1.11.1 in /usr/local/lib/python3.7/dist-packages (from tensorflow==1.15) (1.13.3)\n",
            "Requirement already satisfied: gast==0.2.2 in /usr/local/lib/python3.7/dist-packages (from tensorflow==1.15) (0.2.2)\n",
            "Requirement already satisfied: protobuf>=3.6.1 in /usr/local/lib/python3.7/dist-packages (from tensorflow==1.15) (3.17.3)\n",
            "Requirement already satisfied: google-pasta>=0.1.6 in /usr/local/lib/python3.7/dist-packages (from tensorflow==1.15) (0.2.0)\n",
            "Requirement already satisfied: astor>=0.6.0 in /usr/local/lib/python3.7/dist-packages (from tensorflow==1.15) (0.8.1)\n",
            "Requirement already satisfied: six>=1.10.0 in /usr/local/lib/python3.7/dist-packages (from tensorflow==1.15) (1.15.0)\n",
            "Requirement already satisfied: numpy<2.0,>=1.16.0 in /usr/local/lib/python3.7/dist-packages (from tensorflow==1.15) (1.21.5)\n",
            "Requirement already satisfied: h5py in /usr/local/lib/python3.7/dist-packages (from keras-applications>=1.0.8->tensorflow==1.15) (3.1.0)\n",
            "Requirement already satisfied: markdown>=2.6.8 in /usr/local/lib/python3.7/dist-packages (from tensorboard<1.16.0,>=1.15.0->tensorflow==1.15) (3.3.6)\n",
            "Requirement already satisfied: werkzeug>=0.11.15 in /usr/local/lib/python3.7/dist-packages (from tensorboard<1.16.0,>=1.15.0->tensorflow==1.15) (1.0.1)\n",
            "Requirement already satisfied: setuptools>=41.0.0 in /usr/local/lib/python3.7/dist-packages (from tensorboard<1.16.0,>=1.15.0->tensorflow==1.15) (57.4.0)\n",
            "Requirement already satisfied: importlib-metadata>=4.4 in /usr/local/lib/python3.7/dist-packages (from markdown>=2.6.8->tensorboard<1.16.0,>=1.15.0->tensorflow==1.15) (4.11.2)\n",
            "Requirement already satisfied: typing-extensions>=3.6.4 in /usr/local/lib/python3.7/dist-packages (from importlib-metadata>=4.4->markdown>=2.6.8->tensorboard<1.16.0,>=1.15.0->tensorflow==1.15) (3.10.0.2)\n",
            "Requirement already satisfied: zipp>=0.5 in /usr/local/lib/python3.7/dist-packages (from importlib-metadata>=4.4->markdown>=2.6.8->tensorboard<1.16.0,>=1.15.0->tensorflow==1.15) (3.7.0)\n",
            "Requirement already satisfied: cached-property in /usr/local/lib/python3.7/dist-packages (from h5py->keras-applications>=1.0.8->tensorflow==1.15) (1.5.2)\n",
            "Requirement already satisfied: tensorflow-estimator==1.15.1 in /usr/local/lib/python3.7/dist-packages (1.15.1)\n"
          ]
        }
      ]
    },
    {
      "cell_type": "code",
      "execution_count": 49,
      "metadata": {
        "id": "Ohwr8x41spat"
      },
      "outputs": [],
      "source": [
        "import numpy as np\n",
        "import matplotlib.pyplot as plt\n",
        "import tensorflow as tf\n",
        "from tensorflow import keras"
      ]
    },
    {
      "cell_type": "code",
      "source": [
        "mnist = keras.datasets.mnist\n",
        "(train_images, train_labels),(test_images,test_labels) = mnist.load_data()\n",
        "print ( \"Training data: {},{}\". format(train_images.shape, train_labels.shape))\n",
        "# prints Training data: (60000, 28, 28), (60000, )\n",
        "print( \"Test data: {}, (J\". format (test_images.shape,test_labels.shape))\n",
        "# prints Test data: (10000, 28, 28), (10000, )\n",
        "class_labels = np.unique(train_labels)\n",
        "print( \"There are {} classes in the dataset. They are:{}\". format(len(class_labels), class_labels))\n",
        "# prints There are 10 classes in the dataset. They are: [0 1 2 3 4 5 6 7 8 9"
      ],
      "metadata": {
        "colab": {
          "base_uri": "https://localhost:8080/"
        },
        "id": "u3Fo5YVwsy9_",
        "outputId": "c31f8b37-5d39-4f4b-ef06-bcc254a0c79c"
      },
      "execution_count": 50,
      "outputs": [
        {
          "output_type": "stream",
          "name": "stdout",
          "text": [
            "Training data: (60000, 28, 28),(60000,)\n",
            "Test data: (10000, 28, 28), (J\n",
            "There are 10 classes in the dataset. They are:[0 1 2 3 4 5 6 7 8 9]\n"
          ]
        }
      ]
    },
    {
      "cell_type": "code",
      "source": [
        "plt.figure(figsize=(8,5))\n",
        "plt.subplot(1,3,1)\n",
        "plt.imshow(train_images[0])\n",
        "plt.title( \"Label: {}\". format(train_labels[0]))\n",
        "\n",
        "plt.subplot(1,3,2)\n",
        "plt.imshow(train_images[2500])\n",
        "plt.title( \"Label: {}\". format(train_labels[25001]))\n",
        "plt.subplot(1,3,3)\n",
        "plt.imshow(test_images[12])\n",
        "\n",
        "plt.show()"
      ],
      "metadata": {
        "colab": {
          "base_uri": "https://localhost:8080/",
          "height": 195
        },
        "id": "KtKOL45JuPJ3",
        "outputId": "c88123e1-aa67-47c5-d77a-5e807ffdea59"
      },
      "execution_count": 51,
      "outputs": [
        {
          "output_type": "display_data",
          "data": {
            "text/plain": [
              "<Figure size 576x360 with 3 Axes>"
            ],
            "image/png": "[encoded data removed]"
          },
          "metadata": {
            "needs_background": "light"
          }
        }
      ]
    },
    {
      "cell_type": "code",
      "source": [
        "# As usual we scalre our dataset to range between 0 and 1. In this dataset, the pixel values range from 0 to 255.\n",
        "# Dividing the data by 255 scales to the required range\n",
        "train_images = train_images / 255.0\n",
        "test_images = test_images / 255.0"
      ],
      "metadata": {
        "id": "qHrDFsusvA3-"
      },
      "execution_count": 52,
      "outputs": []
    },
    {
      "cell_type": "code",
      "source": [
        "# Split training data to training and validation sets\n",
        "x_train = train_images[0:50000]\n",
        "x_val = train_images [50000: ]\n",
        "y_train = train_labels[0:50000]\n",
        "y_val = train_labels[50000:]\n",
        "print(\"x_train: {}\". format(x_train.shape)) # prints x_train: (50000, 28, 28)\n",
        "print( \"x_val: {}\". format(x_val.shape)) # prints x val: (10000, 28, 28)\n",
        "print(\"y_train: {}\".format(y_train.shape)) #prints y_train: (50000, )\n",
        "print(\"y_val: {}\". format(y_val.shape)) #prints y_val: (10000, )\n",
        "\n",
        "# Reshape data from 28 * 28 array to a single array\n",
        "new_dimension = np.prod(train_images.shape[1:])\n",
        "x_train = x_train.reshape(x_train.shape[0], new_dimension)\n",
        "x_val = x_val.reshape(x_val.shape[0],new_dimension)\n",
        "test_images = test_images.reshape(test_images. shape[0], new_dimension)\n",
        "print(\"x_train: {}\".format(x_train.shape)) #prints x_train: (50000, 784)\n",
        "print(\"x_val: {}\". format(x_val.shape)) #prints x_val: (10000, 784)\n",
        "print( \"test_images: {}\". format(test_images.shape)) #prints test images: (10000, 784)\n",
        "\n",
        "#Encode labels to categorical variables\n",
        "from tensorflow.keras.utils import to_categorical\n",
        "no_labels = 10\n",
        "y_train = to_categorical(y_train, no_labels)\n",
        "y_val = to_categorical(y_val, no_labels)\n",
        "y_test = to_categorical(test_labels, no_labels)"
      ],
      "metadata": {
        "colab": {
          "base_uri": "https://localhost:8080/"
        },
        "id": "pbNF-8YMvScx",
        "outputId": "ef850599-95cd-4151-900a-347b129e2f8f"
      },
      "execution_count": 57,
      "outputs": [
        {
          "output_type": "stream",
          "name": "stdout",
          "text": [
            "x_train: (50000, 28, 28)\n",
            "x_val: (10000, 28, 28)\n",
            "y_train: (50000,)\n",
            "y_val: (10000,)\n",
            "x_train: (50000, 784)\n",
            "x_val: (10000, 784)\n",
            "test_images: (10000, 784)\n"
          ]
        }
      ]
    },
    {
      "cell_type": "markdown",
      "source": [
        "**MULTILAYER PERCEPTRON**"
      ],
      "metadata": {
        "id": "gpTL2oHVyera"
      }
    },
    {
      "cell_type": "code",
      "source": [
        "# inputs\n",
        "# Placeholders are not enabled in tf 2\n",
        "X = tf.placeholder(tf.float32, [None, new_dimension])\n",
        "Y = tf.placeholder(tf.float32, [None, no_labels])\n",
        "\n",
        "# Creating Model Architecture\n",
        "def multilayer_perceptron(x, no_classes, first_layer_neurons=256, second_layer_neurons=128):\n",
        "  #first layer\n",
        "  first_weight = tf.Variable(tf.random_uniform([new_dimension, first_layer_neurons]))\n",
        "  first_bias = tf.Variable(tf.zeros([first_layer_neurons]))\n",
        "  first_layer_output = tf.nn.relu(tf.add(tf.matmul(x, first_weight), first_bias))\n",
        "\n",
        "  #second layer\n",
        "  second_weight = tf.Variable(tf.random_uniform([first_layer_neurons, second_layer_neurons]))\n",
        "  second_bias = tf.Variable(tf.zeros([second_layer_neurons]))\n",
        "  second_layer_output = tf.nn.relu(tf.add(tf.matmul(first_layer_output, second_weight), second_bias))\n",
        "\n",
        "  #output layer\n",
        "  final_weight = tf.Variable(tf.random_uniform([second_layer_neurons, no_classes]))\n",
        "  final_bias = tf.Variable(tf.zeros([no_classes]))\n",
        "  logits = tf.add(tf.matmul(second_layer_output, final_weight), final_bias)\n",
        "\n",
        "  return logits\n",
        "\n",
        "logits = multilayer_perceptron(X, no_labels)\n",
        "\n",
        "learning_rate = 0.01\n",
        "\n",
        "# We define the loss and optimiser for the network\n",
        "loss_op = tf.reduce_mean(tf.nn.softmax_cross_entropy_with_logits(logits=logits, labels=Y))\n",
        "optimizer = tf.train.AdamOptimizer(learning_rate=learning_rate)\n",
        "train_op = optimizer.minimize(loss_op)\n",
        "\n",
        "#initialize the variables\n",
        "init = tf.global_variables_initializer()\n",
        "\n",
        "epochs = 20\n",
        "batch_size = 1000\n",
        "iteration = len(x_train) // batch_size\n",
        "\n",
        "# Training the model\n",
        "\n",
        "with tf.Session() as session:\n",
        "  session.run(init)\n",
        "  for epoch in range(epochs):\n",
        "    average_cost = 0\n",
        "    start, end = 0, batch_size\n",
        "\n",
        "    for i in range(iteration):\n",
        "      batch_x, batch_y = x_train[start:end], y_train[start:end]\n",
        "      _, loss = session.run([train_op, loss_op], feed_dict={X: batch_x, Y:batch_y})\n",
        "      start += batch_size\n",
        "      end += batch_size\n",
        "      # average loss\n",
        "      average_cost += loss/iteration\n",
        "    print(\"Epoch========{}\".format(epoch))\n",
        "\n",
        "  #evaluate model\n",
        "  prediction = tf.nn.softmax(logits)\n",
        "  ground_truth = tf.equal(tf.argmax(prediction, 1), tf.argmax(Y, 1))\n",
        "  accuracy = tf.reduce_mean(tf.cast(ground_truth, \"float\"))\n",
        "  print(\"Accuracy: {}\".format(accuracy.eval({X: test_images, Y: y_test})))\n",
        "\n",
        "\n",
        "\n",
        "\n"
      ],
      "metadata": {
        "id": "FQa_YHJPymjp",
        "colab": {
          "base_uri": "https://localhost:8080/"
        },
        "outputId": "c42f2d86-4263-4421-8889-1868819ab63e"
      },
      "execution_count": 54,
      "outputs": [
        {
          "output_type": "stream",
          "name": "stdout",
          "text": [
            "Epoch========0\n",
            "Epoch========1\n",
            "Epoch========2\n",
            "Epoch========3\n",
            "Epoch========4\n",
            "Epoch========5\n",
            "Epoch========6\n",
            "Epoch========7\n",
            "Epoch========8\n",
            "Epoch========9\n",
            "Epoch========10\n",
            "Epoch========11\n",
            "Epoch========12\n",
            "Epoch========13\n",
            "Epoch========14\n",
            "Epoch========15\n",
            "Epoch========16\n",
            "Epoch========17\n",
            "Epoch========18\n",
            "Epoch========19\n",
            "Accuracy: 0.8952000141143799\n"
          ]
        }
      ]
    },
    {
      "cell_type": "code",
      "source": [
        "#Building a Sequential Feed Forward Network in Keras\n",
        "from tensorflow.keras.layers import Dense\n",
        "from tensorflow.keras.models import Sequential\n",
        "\n",
        "model = Sequential()\n",
        "model.add(Dense(256, activation='relu', input_shape=(new_dimension,)))\n",
        "model.add(Dense(128, activation='relu'))\n",
        "model.add(Dense(no_labels, activation='softmax'))\n",
        "model.compile(optimizer='adam', loss= tf.keras.losses.categorical_crossentropy,metrics=['accuracy'])\n",
        "\n",
        "history = model.fit(x_train, y_train, epochs=20, batch_size=1000, validation_data=(x_val, y_val))\n",
        "\n",
        "test_loss, test_accuracy = model.evaluate(test_images, y_test)\n",
        "print('Test loss: {}'.format(test_loss))\n",
        "print('Test accuracy: {}'.format(test_accuracy))\n"
      ],
      "metadata": {
        "colab": {
          "base_uri": "https://localhost:8080/"
        },
        "id": "yIDuI_R_S9XE",
        "outputId": "3765a718-22b0-482d-9653-2fa8d81ddd3a"
      },
      "execution_count": 58,
      "outputs": [
        {
          "output_type": "stream",
          "name": "stdout",
          "text": [
            "Train on 50000 samples, validate on 10000 samples\n",
            "Epoch 1/20\n",
            "50000/50000 [==============================] - 2s 42us/sample - loss: 0.6936 - acc: 0.8151 - val_loss: 0.2554 - val_acc: 0.9266\n",
            "Epoch 2/20\n",
            "50000/50000 [==============================] - 2s 32us/sample - loss: 0.2354 - acc: 0.9321 - val_loss: 0.1882 - val_acc: 0.9457\n",
            "Epoch 3/20\n",
            "50000/50000 [==============================] - 2s 32us/sample - loss: 0.1721 - acc: 0.9496 - val_loss: 0.1496 - val_acc: 0.9578\n",
            "Epoch 4/20\n",
            "50000/50000 [==============================] - 2s 32us/sample - loss: 0.1345 - acc: 0.9610 - val_loss: 0.1257 - val_acc: 0.9646\n",
            "Epoch 5/20\n",
            "50000/50000 [==============================] - 2s 32us/sample - loss: 0.1096 - acc: 0.9688 - val_loss: 0.1172 - val_acc: 0.9654\n",
            "Epoch 6/20\n",
            "50000/50000 [==============================] - 2s 32us/sample - loss: 0.0903 - acc: 0.9747 - val_loss: 0.1027 - val_acc: 0.9702\n",
            "Epoch 7/20\n",
            "50000/50000 [==============================] - 2s 32us/sample - loss: 0.0765 - acc: 0.9787 - val_loss: 0.0943 - val_acc: 0.9714\n",
            "Epoch 8/20\n",
            "50000/50000 [==============================] - 2s 32us/sample - loss: 0.0652 - acc: 0.9812 - val_loss: 0.0874 - val_acc: 0.9731\n",
            "Epoch 9/20\n",
            "50000/50000 [==============================] - 2s 31us/sample - loss: 0.0556 - acc: 0.9843 - val_loss: 0.0893 - val_acc: 0.9735\n",
            "Epoch 10/20\n",
            "50000/50000 [==============================] - 2s 32us/sample - loss: 0.0482 - acc: 0.9869 - val_loss: 0.0838 - val_acc: 0.9741\n",
            "Epoch 11/20\n",
            "50000/50000 [==============================] - 2s 32us/sample - loss: 0.0426 - acc: 0.9885 - val_loss: 0.0826 - val_acc: 0.9753\n",
            "Epoch 12/20\n",
            "50000/50000 [==============================] - 2s 31us/sample - loss: 0.0345 - acc: 0.9912 - val_loss: 0.0846 - val_acc: 0.9751\n",
            "Epoch 13/20\n",
            "50000/50000 [==============================] - 2s 32us/sample - loss: 0.0310 - acc: 0.9921 - val_loss: 0.0824 - val_acc: 0.9754\n",
            "Epoch 14/20\n",
            "50000/50000 [==============================] - 2s 32us/sample - loss: 0.0254 - acc: 0.9941 - val_loss: 0.0851 - val_acc: 0.9763\n",
            "Epoch 15/20\n",
            "50000/50000 [==============================] - 2s 32us/sample - loss: 0.0233 - acc: 0.9945 - val_loss: 0.0824 - val_acc: 0.9779\n",
            "Epoch 16/20\n",
            "50000/50000 [==============================] - 2s 31us/sample - loss: 0.0206 - acc: 0.9954 - val_loss: 0.0782 - val_acc: 0.9771\n",
            "Epoch 17/20\n",
            "50000/50000 [==============================] - 2s 32us/sample - loss: 0.0165 - acc: 0.9964 - val_loss: 0.0798 - val_acc: 0.9781\n",
            "Epoch 18/20\n",
            "50000/50000 [==============================] - 2s 32us/sample - loss: 0.0148 - acc: 0.9973 - val_loss: 0.0776 - val_acc: 0.9780\n",
            "Epoch 19/20\n",
            "50000/50000 [==============================] - 2s 32us/sample - loss: 0.0123 - acc: 0.9980 - val_loss: 0.0794 - val_acc: 0.9796\n",
            "Epoch 20/20\n",
            "50000/50000 [==============================] - 2s 32us/sample - loss: 0.0104 - acc: 0.9985 - val_loss: 0.0784 - val_acc: 0.9781\n",
            "10000/10000 [==============================] - 1s 67us/sample - loss: 0.0761 - acc: 0.9769\n",
            "Test loss: 0.07611770435950166\n",
            "Test accuracy: 0.9768999814987183\n"
          ]
        }
      ]
    },
    {
      "cell_type": "code",
      "source": [
        "plt.figure()\n",
        "plt.plot(history.history['loss'], 'blue')\n",
        "plt.plot(history.history['val_loss'], 'red')\n",
        "plt.legend(['Training loss', 'Validation Loss'])\n",
        "plt.xlabel('Epochs')\n",
        "plt.ylabel('Loss')\n",
        "plt.title('Loss Curves - before regularisation')"
      ],
      "metadata": {
        "colab": {
          "base_uri": "https://localhost:8080/",
          "height": 312
        },
        "id": "v63guTKRL9rn",
        "outputId": "ab89c78f-3ef8-4f1e-8f38-0d78c7632bf3"
      },
      "execution_count": 59,
      "outputs": [
        {
          "output_type": "execute_result",
          "data": {
            "text/plain": [
              "Text(0.5, 1.0, 'Loss Curves - before regularisation')"
            ]
          },
          "metadata": {},
          "execution_count": 59
        },
        {
          "output_type": "display_data",
          "data": {
            "text/plain": [
              "<Figure size 432x288 with 1 Axes>"
            ],
            "image/png": "[encoded data removed]"
          },
          "metadata": {
            "needs_background": "light"
          }
        }
      ]
    },
    {
      "cell_type": "code",
      "source": [
        "from tensorflow.keras.layers import Dropout\n",
        "reg_model = Sequential()\n",
        "reg_model.add(Dense(256, activation='relu', input_shape=(new_dimension,)))\n",
        "reg_model.add(Dropout(0.4))\n",
        "reg_model.add(Dense(128, activation='relu'))\n",
        "reg_model.add(Dropout(0.4))\n",
        "reg_model.add(Dense(no_labels, activation='softmax'))\n",
        "\n",
        "reg_model.compile(optimizer='adam', loss=tf.keras.losses.categorical_crossentropy, \n",
        "              metrics=['accuracy'])\n",
        "\n",
        "reg_history = reg_model.fit(x_train, y_train, validation_data=(x_val, y_val), epochs=20, batch_size=1000)\n",
        "test_loss, test_accuracy = reg_model.evaluate(test_images, y_test)\n",
        "print('Test loss: {}'.format(test_loss))\n",
        "print('Test accuracy: {}'.format(test_accuracy))"
      ],
      "metadata": {
        "colab": {
          "base_uri": "https://localhost:8080/"
        },
        "id": "PtWFEP4gMRA7",
        "outputId": "0f6276cb-9a66-4cfb-efbb-3c3d26649531"
      },
      "execution_count": 64,
      "outputs": [
        {
          "output_type": "stream",
          "name": "stdout",
          "text": [
            "Train on 50000 samples, validate on 10000 samples\n",
            "Epoch 1/20\n",
            "50000/50000 [==============================] - 5s 99us/sample - loss: 0.9918 - acc: 0.6841 - val_loss: 0.2955 - val_acc: 0.9181\n",
            "Epoch 2/20\n",
            "50000/50000 [==============================] - 4s 78us/sample - loss: 0.3812 - acc: 0.8875 - val_loss: 0.2043 - val_acc: 0.9414\n",
            "Epoch 3/20\n",
            "50000/50000 [==============================] - 2s 40us/sample - loss: 0.2833 - acc: 0.9176 - val_loss: 0.1654 - val_acc: 0.9538\n",
            "Epoch 4/20\n",
            "50000/50000 [==============================] - 2s 37us/sample - loss: 0.2337 - acc: 0.9310 - val_loss: 0.1403 - val_acc: 0.9606\n",
            "Epoch 5/20\n",
            "50000/50000 [==============================] - 2s 38us/sample - loss: 0.2027 - acc: 0.9412 - val_loss: 0.1259 - val_acc: 0.9633\n",
            "Epoch 6/20\n",
            "50000/50000 [==============================] - 2s 37us/sample - loss: 0.1784 - acc: 0.9492 - val_loss: 0.1155 - val_acc: 0.9672\n",
            "Epoch 7/20\n",
            "50000/50000 [==============================] - 2s 37us/sample - loss: 0.1597 - acc: 0.9528 - val_loss: 0.1068 - val_acc: 0.9689\n",
            "Epoch 8/20\n",
            "50000/50000 [==============================] - 2s 39us/sample - loss: 0.1418 - acc: 0.9581 - val_loss: 0.1013 - val_acc: 0.9705\n",
            "Epoch 9/20\n",
            "50000/50000 [==============================] - 2s 38us/sample - loss: 0.1316 - acc: 0.9607 - val_loss: 0.0940 - val_acc: 0.9726\n",
            "Epoch 10/20\n",
            "50000/50000 [==============================] - 2s 38us/sample - loss: 0.1218 - acc: 0.9623 - val_loss: 0.0906 - val_acc: 0.9730\n",
            "Epoch 11/20\n",
            "50000/50000 [==============================] - 2s 38us/sample - loss: 0.1138 - acc: 0.9661 - val_loss: 0.0866 - val_acc: 0.9750\n",
            "Epoch 12/20\n",
            "50000/50000 [==============================] - 2s 38us/sample - loss: 0.1074 - acc: 0.9681 - val_loss: 0.0828 - val_acc: 0.9753\n",
            "Epoch 13/20\n",
            "50000/50000 [==============================] - 2s 38us/sample - loss: 0.1014 - acc: 0.9704 - val_loss: 0.0815 - val_acc: 0.9760\n",
            "Epoch 14/20\n",
            "50000/50000 [==============================] - 2s 38us/sample - loss: 0.0916 - acc: 0.9720 - val_loss: 0.0801 - val_acc: 0.9758\n",
            "Epoch 15/20\n",
            "50000/50000 [==============================] - 2s 38us/sample - loss: 0.0889 - acc: 0.9725 - val_loss: 0.0810 - val_acc: 0.9766\n",
            "Epoch 16/20\n",
            "50000/50000 [==============================] - 2s 38us/sample - loss: 0.0816 - acc: 0.9753 - val_loss: 0.0802 - val_acc: 0.9774\n",
            "Epoch 17/20\n",
            "50000/50000 [==============================] - 2s 37us/sample - loss: 0.0803 - acc: 0.9752 - val_loss: 0.0755 - val_acc: 0.9775\n",
            "Epoch 18/20\n",
            "50000/50000 [==============================] - 2s 38us/sample - loss: 0.0746 - acc: 0.9768 - val_loss: 0.0735 - val_acc: 0.9775\n",
            "Epoch 19/20\n",
            "50000/50000 [==============================] - 2s 37us/sample - loss: 0.0709 - acc: 0.9780 - val_loss: 0.0749 - val_acc: 0.9788\n",
            "Epoch 20/20\n",
            "50000/50000 [==============================] - 2s 38us/sample - loss: 0.0689 - acc: 0.9790 - val_loss: 0.0711 - val_acc: 0.9789\n",
            "10000/10000 [==============================] - 1s 73us/sample - loss: 0.0676 - acc: 0.9790\n",
            "Test loss: 0.06759930957603501\n",
            "Test accuracy: 0.9789999723434448\n"
          ]
        }
      ]
    },
    {
      "cell_type": "code",
      "source": [
        "test_loss, test_accuracy = reg_model.evaluate(test_images, y_test)\n",
        "print('Test loss: {}'.format(test_loss))\n",
        "print('Test accuracy: {}'.format(test_accuracy))"
      ],
      "metadata": {
        "colab": {
          "base_uri": "https://localhost:8080/"
        },
        "id": "rC9dcQ4cMmJo",
        "outputId": "68332845-b3f6-4301-8412-1829cc52a266"
      },
      "execution_count": 65,
      "outputs": [
        {
          "output_type": "stream",
          "name": "stdout",
          "text": [
            "10000/10000 [==============================] - 1s 74us/sample - loss: 0.0676 - acc: 0.9790\n",
            "Test loss: 0.06759930957603501\n",
            "Test accuracy: 0.9789999723434448\n"
          ]
        }
      ]
    },
    {
      "cell_type": "code",
      "source": [
        "plt.figure()\n",
        "plt.plot(reg_history.history['loss'], 'blue')\n",
        "plt.plot(reg_history.history['val_loss'], 'red')\n",
        "plt.legend(['Training loss', 'Validation Loss'])\n",
        "plt.xlabel('Epochs')\n",
        "plt.ylabel('Loss')\n",
        "plt.title('Loss Curves - after regularisation')"
      ],
      "metadata": {
        "colab": {
          "base_uri": "https://localhost:8080/",
          "height": 312
        },
        "id": "xbvoZ9VKMqQJ",
        "outputId": "24283983-1fb7-480c-9d49-7ff113c44fef"
      },
      "execution_count": 66,
      "outputs": [
        {
          "output_type": "execute_result",
          "data": {
            "text/plain": [
              "Text(0.5, 1.0, 'Loss Curves - after regularisation')"
            ]
          },
          "metadata": {},
          "execution_count": 66
        },
        {
          "output_type": "display_data",
          "data": {
            "text/plain": [
              "<Figure size 432x288 with 1 Axes>"
            ],
            "image/png": "[encoded data removed]"
          },
          "metadata": {
            "needs_background": "light"
          }
        }
      ]
    },
    {
      "cell_type": "code",
      "source": [
        "predictions = model.predict([test_images]) # Make prediction\n",
        "print(np.argmax(predictions[1000])) # Print out 9"
      ],
      "metadata": {
        "colab": {
          "base_uri": "https://localhost:8080/"
        },
        "id": "U4JnED4eMt-c",
        "outputId": "b2a717f5-5610-41f6-ca18-e04b15a431e0"
      },
      "execution_count": 67,
      "outputs": [
        {
          "output_type": "stream",
          "name": "stdout",
          "text": [
            "9\n"
          ]
        }
      ]
    },
    {
      "cell_type": "code",
      "source": [
        "# Let's see whether the image would turn out to be 9\n",
        "# Remember that the input data to the network were flattened for the purpose of learning to a vector with a length of 784. Before displaying it, we need to convert it back to the size of 28 x 28 pixels.\n",
        "plt.figure(figsize=(8, 5))\n",
        "\n",
        "plt.subplot(1,3,1)\n",
        "plt.imshow(test_images[1000].reshape(28,28), cmap=\"gray\") # Import the image\n",
        "plt.show() # Show the image"
      ],
      "metadata": {
        "colab": {
          "base_uri": "https://localhost:8080/",
          "height": 181
        },
        "id": "KLxTOSSMMyJS",
        "outputId": "a68d0006-4c2f-49b6-e1bf-5d1dcaa116a8"
      },
      "execution_count": 68,
      "outputs": [
        {
          "output_type": "display_data",
          "data": {
            "text/plain": [
              "<Figure size 576x360 with 1 Axes>"
            ],
            "image/png": "[encoded data removed]"
          },
          "metadata": {
            "needs_background": "light"
          }
        }
      ]
    },
    {
      "cell_type": "code",
      "source": [
        "# You can try out others and play around with them\n",
        "predictions = model.predict([test_images]) # Make prediction\n",
        "print(np.argmax(predictions[6700])) # Print out the number"
      ],
      "metadata": {
        "colab": {
          "base_uri": "https://localhost:8080/"
        },
        "id": "_CHOf7rJM0N9",
        "outputId": "44b8de85-60ea-4ac6-a41f-c1d36bff19a7"
      },
      "execution_count": 69,
      "outputs": [
        {
          "output_type": "stream",
          "name": "stdout",
          "text": [
            "4\n"
          ]
        }
      ]
    },
    {
      "cell_type": "code",
      "source": [
        "plt.figure(figsize=(8, 5))\n",
        "\n",
        "plt.subplot(1,3,1)\n",
        "plt.imshow(test_images[6700].reshape(28,28), cmap=\"gray\") # Import the image\n",
        "plt.show() # Show the image"
      ],
      "metadata": {
        "colab": {
          "base_uri": "https://localhost:8080/",
          "height": 181
        },
        "id": "c6LuquA3M5wJ",
        "outputId": "db41e3c7-9cd3-4197-db7f-0f9fdba5485b"
      },
      "execution_count": 70,
      "outputs": [
        {
          "output_type": "display_data",
          "data": {
            "text/plain": [
              "<Figure size 576x360 with 1 Axes>"
            ],
            "image/png": "[encoded data removed]"
          },
          "metadata": {
            "needs_background": "light"
          }
        }
      ]
    }
  ]
}